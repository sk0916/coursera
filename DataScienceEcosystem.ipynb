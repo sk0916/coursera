{
 "cells": [
  {
   "cell_type": "markdown",
   "id": "9d419ad9",
   "metadata": {},
   "source": [
    "# Data Science Tools and Ecosystem"
   ]
  },
  {
   "cell_type": "markdown",
   "id": "bf82681e",
   "metadata": {},
   "source": [
    "**In this notebook, Data Science Tools and Ecosystem are summarized**\n"
   ]
  },
  {
   "cell_type": "markdown",
   "id": "4a2d675e",
   "metadata": {},
   "source": [
    "**Objectives:**\n",
    "* markdown cells are used to type text which are not the part of code\n",
    "* several features are availabe in markdown eg hashtag for header size, double asterik for bold letters,etc\n",
    "* some of the important data science programming languages, libraries, tools are mentioned\n",
    "* a basic python code cell is executed with answers \n",
    "* some of the python arithmetic expressions  are  mentioned\n"
   ]
  },
  {
   "cell_type": "markdown",
   "id": "f1ca07d1",
   "metadata": {},
   "source": [
    "**Some of the popular languages that Data Scientists use are:**\n",
    "1. Python \n",
    "2. R\n",
    "3. Java\n",
    "4. Scala\n",
    "5. Julia"
   ]
  },
  {
   "cell_type": "markdown",
   "id": "1792f92a",
   "metadata": {},
   "source": [
    "**Some of the commonly used libraries used by Data Scientists include:**\n",
    " 1. TensorFlow.\n",
    "   2. NumPy.\n",
    "   3. SciPy.\n",
    "   4. Pandas.\n",
    "   5. Matplotlib.\n",
    "   6. Keras.\n"
   ]
  },
  {
   "cell_type": "markdown",
   "id": "87efb7f9",
   "metadata": {},
   "source": [
    "| **Data Science Tools** |\n",
    "------------------------------\n",
    "| Tensorflow |\n",
    "| Matlab |\n",
    "|Tableau|\n",
    "|Apache Spark|"
   ]
  },
  {
   "cell_type": "markdown",
   "id": "753982aa",
   "metadata": {},
   "source": [
    "### Below are a few examples of evaluating arithmetic expressions in Python\n",
    "\n",
    "|Arithmetic symbol |Meaning|\n",
    "|---------------------|----------------|\n",
    "|   *   |   PRODUCT   |\n",
    "|   +  |    SUM     |\n",
    "|   -   |   DIFFERENCE   |\n",
    "|   **  |   EXPONENT  |\n",
    "|   /    |    QUOTIENT   |"
   ]
  },
  {
   "cell_type": "code",
   "execution_count": 2,
   "id": "545106bb",
   "metadata": {},
   "outputs": [
    {
     "name": "stdout",
     "output_type": "stream",
     "text": [
      "17\n"
     ]
    }
   ],
   "source": [
    "#This a simple arithmetic expression to mutiply then add integers\n",
    "a=(3*4)+5\n",
    "print(a)"
   ]
  },
  {
   "cell_type": "code",
   "execution_count": 3,
   "id": "55384fb7",
   "metadata": {},
   "outputs": [
    {
     "name": "stdout",
     "output_type": "stream",
     "text": [
      "3 hours 20 minutes\n"
     ]
    }
   ],
   "source": [
    "# This will convert 200 minutes to hours by diving by 60\n",
    "mins=200\n",
    "hr=mins//60\n",
    "mi=mins%60\n",
    "print(hr,\"hours\" ,mi,\"minutes\")"
   ]
  },
  {
   "cell_type": "markdown",
   "id": "927699e7",
   "metadata": {},
   "source": [
    "## Author \n",
    "Sreepradha\n"
   ]
  },
  {
   "cell_type": "markdown",
   "metadata": {},
   "source": []
  }
 ],
 "metadata": {
  "kernelspec": {
   "display_name": "Python 3 (ipykernel)",
   "language": "python",
   "name": "python3"
  },
  "language_info": {
   "codemirror_mode": {
    "name": "ipython",
    "version": 3
   },
   "file_extension": ".py",
   "mimetype": "text/x-python",
   "name": "python",
   "nbconvert_exporter": "python",
   "pygments_lexer": "ipython3",
   "version": "3.10.9"
  }
 },
 "nbformat": 4,
 "nbformat_minor": 5
}
